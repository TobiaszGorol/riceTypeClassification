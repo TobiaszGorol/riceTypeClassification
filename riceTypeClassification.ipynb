{
 "cells": [
  {
   "cell_type": "code",
   "execution_count": null,
   "id": "1d92905d",
   "metadata": {},
   "outputs": [],
   "source": [
    "import pandas as pd\n",
    "import numpy as np\n",
    "import matplotlib.pyplot as plt"
   ]
  },
  {
   "cell_type": "code",
   "execution_count": null,
   "id": "39f4a886",
   "metadata": {},
   "outputs": [],
   "source": [
    "from pathlib import Path\n",
    "from sklearn.preprocessing import LabelEncoder"
   ]
  },
  {
   "cell_type": "code",
   "execution_count": null,
   "id": "4bd32122",
   "metadata": {},
   "outputs": [],
   "source": [
    "image_link = list(Path(r'/kaggle/input/rice-image-dataset').glob(r'**/*.jpg'))\n",
    "image_name = [x.parents[0].stem for x in image_link]\n",
    "image_label = LabelEncoder().fit_transform(image_name)"
   ]
  },
  {
   "cell_type": "code",
   "execution_count": null,
   "id": "4fd3293a",
   "metadata": {},
   "outputs": [],
   "source": [
    "df = pd.DataFrame()\n",
    "df['link'] = np.array(image_link)\n",
    "df['name'] = image_name\n",
    "df['label'] = image_label"
   ]
  },
  {
   "cell_type": "code",
   "execution_count": null,
   "id": "9b8e6696",
   "metadata": {},
   "outputs": [],
   "source": [
    "df.head()"
   ]
  },
  {
   "cell_type": "code",
   "execution_count": null,
   "id": "15e04794",
   "metadata": {},
   "outputs": [],
   "source": [
    "df.info()"
   ]
  },
  {
   "cell_type": "code",
   "execution_count": null,
   "id": "53192ea2",
   "metadata": {},
   "outputs": [],
   "source": [
    "df['name'].unique()"
   ]
  },
  {
   "cell_type": "code",
   "execution_count": null,
   "id": "b5373427",
   "metadata": {},
   "outputs": [],
   "source": [
    "df.name.value_counts().plot(kind='bar', figsize=(12, 8))"
   ]
  },
  {
   "cell_type": "code",
   "execution_count": 4,
   "id": "16419c09",
   "metadata": {},
   "outputs": [],
   "source": [
    "import cv2"
   ]
  },
  {
   "cell_type": "code",
   "execution_count": null,
   "id": "9fca8013",
   "metadata": {},
   "outputs": [],
   "source": [
    "num_images = 10\n",
    "sample_df = df.sample(num_images)\n",
    "for index, row in sample_df.iterrows():\n",
    "    image = cv2.imread(str(row['link']))\n",
    "    image = cv2.cvtColor(image, cv2.COLOR_BGR2RGB)\n",
    "    \n",
    "    plt.figure()\n",
    "    plt.imshow(image)\n",
    "    plt.title(row['name'])\n",
    "    plt.axis('off')\n",
    "\n",
    "plt.show()"
   ]
  },
  {
   "cell_type": "code",
   "execution_count": null,
   "id": "c080c638",
   "metadata": {},
   "outputs": [],
   "source": [
    "def get_image_size(row):\n",
    "    image = cv2.imread(str(row['link']))\n",
    "    height, width, _ = image.shape\n",
    "    return (width, height)"
   ]
  },
  {
   "cell_type": "code",
   "execution_count": null,
   "id": "5f87992d",
   "metadata": {},
   "outputs": [],
   "source": [
    "image_size = df.apply(get_image_size, axis=1)"
   ]
  },
  {
   "cell_type": "code",
   "execution_count": null,
   "id": "883018cf",
   "metadata": {},
   "outputs": [],
   "source": [
    "image_size.unique()"
   ]
  },
  {
   "cell_type": "code",
   "execution_count": null,
   "id": "c232723b",
   "metadata": {},
   "outputs": [],
   "source": [
    "from tensorflow.keras.preprocessing.image import ImageDataGenerator"
   ]
  },
  {
   "cell_type": "code",
   "execution_count": null,
   "id": "fa3093ed",
   "metadata": {},
   "outputs": [],
   "source": [
    "data_gen = ImageDataGenerator(\n",
    "    rescale=1./255,\n",
    "    rotation_range=20,\n",
    "    zoom_range=0.2,\n",
    "    width_shift_range=0.2,\n",
    "    height_shift_range=0.2,\n",
    "    horizontal_flip=True\n",
    ")"
   ]
  },
  {
   "cell_type": "code",
   "execution_count": null,
   "id": "d8b689f5",
   "metadata": {},
   "outputs": [],
   "source": [
    "target_size = (100, 100)"
   ]
  },
  {
   "cell_type": "code",
   "execution_count": null,
   "id": "b24fe3c5",
   "metadata": {},
   "outputs": [],
   "source": [
    "df['link'] = df['link'].astype(str)\n",
    "df['label'] = df['label'].astype(str)"
   ]
  },
  {
   "cell_type": "code",
   "execution_count": null,
   "id": "bc1b282d",
   "metadata": {},
   "outputs": [],
   "source": [
    "from sklearn.model_selection import train_test_split"
   ]
  },
  {
   "cell_type": "code",
   "execution_count": null,
   "id": "6e328544",
   "metadata": {},
   "outputs": [],
   "source": [
    "train_df, test_df = train_test_split(df, test_size=0.2, random_state=42)"
   ]
  },
  {
   "cell_type": "code",
   "execution_count": null,
   "id": "91a4cd23",
   "metadata": {},
   "outputs": [],
   "source": [
    "parent_directory = '/kaggle/input/rice-image-dataset/Rice_Image_Dataset/'"
   ]
  },
  {
   "cell_type": "code",
   "execution_count": null,
   "id": "8614a7bd",
   "metadata": {},
   "outputs": [],
   "source": [
    "train_data = data_gen.flow_from_dataframe(\n",
    "    train_df,\n",
    "    directory=parent_directory,\n",
    "    x_col='link',\n",
    "    y_col='label',\n",
    "    target_size=target_size,\n",
    "    batch_size=32,\n",
    "    class_mode='categorical'\n",
    ")\n",
    "\n",
    "test_data = data_gen.flow_from_dataframe(\n",
    "    test_df,\n",
    "    directory=parent_directory,\n",
    "    x_col='link',\n",
    "    y_col='label',\n",
    "    target_size=target_size,\n",
    "    batch_size=32,\n",
    "    class_mode='categorical'\n",
    ")"
   ]
  },
  {
   "cell_type": "code",
   "execution_count": null,
   "id": "a0542d15",
   "metadata": {},
   "outputs": [],
   "source": [
    "from tensorflow import keras\n",
    "from tensorflow.keras import layers"
   ]
  },
  {
   "cell_type": "code",
   "execution_count": null,
   "id": "ea61a096",
   "metadata": {},
   "outputs": [],
   "source": [
    "model = keras.Sequential([\n",
    "    layers.Conv2D(32, (3, 3), activation='relu', input_shape=(100, 100, 3)),\n",
    "    layers.MaxPooling2D((2, 2)),\n",
    "    layers.Conv2D(64, (3, 3), activation='relu'),\n",
    "    layers.MaxPooling2D((2, 2)),\n",
    "    layers.Conv2D(128, (3, 3), activation='relu'),\n",
    "    layers.MaxPooling2D((2, 2)),\n",
    "    layers.Flatten(),\n",
    "    layers.Dense(64, activation='relu'),\n",
    "    layers.Dense(5, activation='softmax')\n",
    "])"
   ]
  },
  {
   "cell_type": "code",
   "execution_count": null,
   "id": "f5b22ef1",
   "metadata": {},
   "outputs": [],
   "source": [
    "model.compile(optimizer='adam', loss='categorical_crossentropy', metrics=['accuracy'])"
   ]
  },
  {
   "cell_type": "code",
   "execution_count": null,
   "id": "b9467834",
   "metadata": {},
   "outputs": [],
   "source": [
    "from tensorflow.keras.callbacks import EarlyStopping"
   ]
  },
  {
   "cell_type": "code",
   "execution_count": null,
   "id": "07dc9a0c",
   "metadata": {},
   "outputs": [],
   "source": [
    "early_stop = EarlyStopping(monitor='val_loss', patience=10, min_delta=0.0001, restore_best_weights=True)"
   ]
  },
  {
   "cell_type": "code",
   "execution_count": null,
   "id": "65791bf5",
   "metadata": {},
   "outputs": [],
   "source": [
    "history = model.fit(train_data, validation_data=test_data, epochs=50, callbacks=[early_stop])"
   ]
  },
  {
   "cell_type": "code",
   "execution_count": null,
   "id": "96dde009",
   "metadata": {},
   "outputs": [],
   "source": [
    "history_df = pd.DataFrame(history.history)"
   ]
  },
  {
   "cell_type": "code",
   "execution_count": null,
   "id": "398973e5",
   "metadata": {},
   "outputs": [],
   "source": [
    "for i in range(1, 50, 20):\n",
    "    history_df.loc[i:, ['loss', 'val_loss']].plot()\n",
    "    history_df.loc[:, ['accuracy', 'val_accuracy']].plot()\n",
    "\n",
    "print('Minimum validation loss: {}'.format(history_df['val_loss'].min()))\n",
    "print('Maximun accuracy: {}'.format(history_df['val_accuracy'].min()))"
   ]
  }
 ],
 "metadata": {
  "kernelspec": {
   "display_name": "Python 3 (ipykernel)",
   "language": "python",
   "name": "python3"
  },
  "language_info": {
   "codemirror_mode": {
    "name": "ipython",
    "version": 3
   },
   "file_extension": ".py",
   "mimetype": "text/x-python",
   "name": "python",
   "nbconvert_exporter": "python",
   "pygments_lexer": "ipython3",
   "version": "3.9.7"
  }
 },
 "nbformat": 4,
 "nbformat_minor": 5
}
